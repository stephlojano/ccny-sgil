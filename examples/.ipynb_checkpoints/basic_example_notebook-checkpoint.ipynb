{
 "cells": [
  {
   "cell_type": "code",
   "execution_count": 1,
   "metadata": {},
   "outputs": [],
   "source": [
    "from ccny_sgil import here_API"
   ]
  },
  {
   "cell_type": "code",
   "execution_count": 2,
   "metadata": {},
   "outputs": [],
   "source": [
    "apiKey = 'xKytsYF0qMC_mxICeBEHu4tFZTtJUINBH2zPsHIOK54'"
   ]
  },
  {
   "cell_type": "code",
   "execution_count": 3,
   "metadata": {},
   "outputs": [
    {
     "name": "stdout",
     "output_type": "stream",
     "text": [
      "Credentials OK\n"
     ]
    }
   ],
   "source": [
    "myhereapi = here_API(apiKey=apiKey)"
   ]
  },
  {
   "cell_type": "code",
   "execution_count": 4,
   "metadata": {},
   "outputs": [],
   "source": [
    "## Energy Consumption Example \n",
    "speeds = [0, 27, 45, 60, 75, 90, 100, 110, 120, 130] # km/h\n",
    "energyConsumption = [0.239, 0.239, 0.259, 0.196, 0.207, 0.238, 0.26, 0.296, 0.337, 0.351]"
   ]
  },
  {
   "cell_type": "code",
   "execution_count": 5,
   "metadata": {},
   "outputs": [
    {
     "data": {
      "text/plain": [
       "[0,\n",
       " 0.239,\n",
       " 27,\n",
       " 0.239,\n",
       " 45,\n",
       " 0.259,\n",
       " 60,\n",
       " 0.196,\n",
       " 75,\n",
       " 0.207,\n",
       " 90,\n",
       " 0.238,\n",
       " 100,\n",
       " 0.26,\n",
       " 110,\n",
       " 0.296,\n",
       " 120,\n",
       " 0.337,\n",
       " 130,\n",
       " 0.351]"
      ]
     },
     "execution_count": 5,
     "metadata": {},
     "output_type": "execute_result"
    }
   ],
   "source": [
    "myhereapi.set_energy_model(speeds=speeds, energy_consumption=energyConsumption)"
   ]
  },
  {
   "cell_type": "code",
   "execution_count": 6,
   "metadata": {},
   "outputs": [
    {
     "data": {
      "text/plain": [
       "{'routes': [{'id': '6c01c0bd-ce51-4f64-b4cd-4c06848c7bd4',\n",
       "   'sections': [{'id': '2efbafa2-7c76-4200-a970-05e3daf1862a',\n",
       "     'type': 'vehicle',\n",
       "     'actions': [{'action': 'depart',\n",
       "       'duration': 28,\n",
       "       'length': 83,\n",
       "       'offset': 0},\n",
       "      {'action': 'turn',\n",
       "       'duration': 141,\n",
       "       'length': 608,\n",
       "       'offset': 2,\n",
       "       'direction': 'left',\n",
       "       'severity': 'quite'},\n",
       "      {'action': 'turn',\n",
       "       'duration': 128,\n",
       "       'length': 708,\n",
       "       'offset': 12,\n",
       "       'direction': 'left',\n",
       "       'severity': 'quite'},\n",
       "      {'action': 'turn',\n",
       "       'duration': 13,\n",
       "       'length': 26,\n",
       "       'offset': 26,\n",
       "       'direction': 'left',\n",
       "       'severity': 'quite'},\n",
       "      {'action': 'turn',\n",
       "       'duration': 8,\n",
       "       'length': 22,\n",
       "       'offset': 27,\n",
       "       'direction': 'right',\n",
       "       'severity': 'quite'},\n",
       "      {'action': 'arrive', 'duration': 0, 'length': 0, 'offset': 29}],\n",
       "     'departure': {'time': '2020-12-02T19:00:47-05:00',\n",
       "      'place': {'type': 'place',\n",
       "       'location': {'lat': 40.6823682, 'lng': -73.9895905, 'elv': -24.0},\n",
       "       'originalLocation': {'lat': 40.6821099, 'lng': -73.9897661}}},\n",
       "     'arrival': {'time': '2020-12-02T19:06:05-05:00',\n",
       "      'place': {'type': 'place',\n",
       "       'location': {'lat': 40.67473, 'lng': -73.98639},\n",
       "       'originalLocation': {'lat': 40.674722, 'lng': -73.9863751}}},\n",
       "     'summary': {'duration': 318,\n",
       "      'length': 1447,\n",
       "      'consumption': 0.3445,\n",
       "      'baseDuration': 318},\n",
       "     'travelSummary': {'duration': 318,\n",
       "      'length': 1447,\n",
       "      'consumption': 0.3445,\n",
       "      'baseDuration': 318},\n",
       "     'polyline': 'BGg4hztCt9-jtEgHtRsOnkBzoB7a_nBvbrnB_Y_nB7ajI_Enf7V3SjNjN3IvgBvWzoBvb7foiC3DkI_EgK_O0e3hB4kC3N4cjIgPnV4rBnGwM3Nge_TkrBrd08BjDoGvHgPwMgK7BsEwH0F',\n",
       "     'transport': {'mode': 'car'}}]}]}"
      ]
     },
     "execution_count": 6,
     "metadata": {},
     "output_type": "execute_result"
    }
   ],
   "source": [
    "origin = (40.682110, -73.989766)\n",
    "destination = (40.674722, -73.986375)\n",
    "\n",
    "# time = 'any' # assumes optimal traffic conditions\n",
    "# time = '2020-08-25T11:06:00' # uses historical traffic \n",
    "\n",
    "# myhereapi.make_request(origin, destination, time=time) # uses options specified above\n",
    "myhereapi.make_request(origin, destination) # uses current traffic conditions"
   ]
  },
  {
   "cell_type": "code",
   "execution_count": 7,
   "metadata": {},
   "outputs": [
    {
     "data": {
      "text/plain": [
       "0.3445"
      ]
     },
     "execution_count": 7,
     "metadata": {},
     "output_type": "execute_result"
    }
   ],
   "source": [
    "# Returns estimated energy consumption in kWh\n",
    "myhereapi.get_energy_consumption()"
   ]
  },
  {
   "cell_type": "code",
   "execution_count": 8,
   "metadata": {},
   "outputs": [
    {
     "data": {
      "text/plain": [
       "1447"
      ]
     },
     "execution_count": 8,
     "metadata": {},
     "output_type": "execute_result"
    }
   ],
   "source": [
    "# Returns distance in meters\n",
    "myhereapi.get_route_distance()"
   ]
  },
  {
   "cell_type": "code",
   "execution_count": 9,
   "metadata": {},
   "outputs": [
    {
     "data": {
      "text/plain": [
       "318"
      ]
     },
     "execution_count": 9,
     "metadata": {},
     "output_type": "execute_result"
    }
   ],
   "source": [
    "# Returns duration in seconds\n",
    "myhereapi.get_route_duration()"
   ]
  }
 ],
 "metadata": {
  "kernelspec": {
   "display_name": "Python 3",
   "language": "python",
   "name": "python3"
  },
  "language_info": {
   "codemirror_mode": {
    "name": "ipython",
    "version": 3
   },
   "file_extension": ".py",
   "mimetype": "text/x-python",
   "name": "python",
   "nbconvert_exporter": "python",
   "pygments_lexer": "ipython3",
   "version": "3.8.3"
  }
 },
 "nbformat": 4,
 "nbformat_minor": 2
}
